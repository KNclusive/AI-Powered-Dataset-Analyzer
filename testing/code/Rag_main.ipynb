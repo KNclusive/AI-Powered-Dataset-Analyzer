{
 "cells": [
  {
   "cell_type": "code",
   "execution_count": 1,
   "metadata": {},
   "outputs": [
    {
     "data": {
      "text/plain": [
       "True"
      ]
     },
     "execution_count": 1,
     "metadata": {},
     "output_type": "execute_result"
    }
   ],
   "source": [
    "from dotenv import load_dotenv\n",
    "load_dotenv()"
   ]
  },
  {
   "cell_type": "code",
   "execution_count": 2,
   "metadata": {},
   "outputs": [],
   "source": [
    "from langchain_openai import ChatOpenAI\n",
    "llm = ChatOpenAI(model=\"gpt-4o-mini\")"
   ]
  },
  {
   "cell_type": "code",
   "execution_count": 3,
   "metadata": {},
   "outputs": [],
   "source": [
    "#Helper utility to create agent nodes in graph\n",
    "from langchain_core.messages import HumanMessage\n",
    "import regex as re\n",
    "\n",
    "\n",
    "def agent_node(state, agent, name):\n",
    "    valid_name = re.sub(r'[^a-zA-Z0-9_-]', '_', name)\n",
    "    result = agent.invoke(state)\n",
    "    return {\n",
    "        \"messages\": [HumanMessage(content=result[\"messages\"][-1].content, name=valid_name)]\n",
    "    }"
   ]
  },
  {
   "cell_type": "code",
   "execution_count": 4,
   "metadata": {},
   "outputs": [],
   "source": [
    "#Create Supervisor Agent\n",
    "from langchain_core.prompts import ChatPromptTemplate, MessagesPlaceholder\n",
    "from pydantic import BaseModel\n",
    "from typing import Literal\n",
    "\n",
    "members = [\"Schema_Query Agent\", \"Query_Executer Agent\"]\n",
    "system_prompt = (\n",
    "    \"You are a Supervisor Agent responsible for managing a conversation between the following workers: {members}. \"\n",
    "    \"Your role is to receive natural language queries from users, interpret the intent, and delegate tasks to the most appropriate specialized worker. \"\n",
    "    \"Each worker is specialized in a specific area and will perform the assigned task and respond with their results and status. \"\n",
    "    \"Available workers: (1) A Schema and Query Builder Agent that analyzes dataset structure and creates Pandas queries, and (2) a Query Executor Agent that runs pandas queries on the dataframe. \"\n",
    "    \"When the user query is fully resolved, respond with 'FINISH'. \"\n",
    ")\n",
    "# Our team supervisor is an LLM node. It just picks the next agent to process\n",
    "# and decides when the work is completed\n",
    "options = [\"FINISH\"] + members\n",
    "\n",
    "\n",
    "class routeResponse(BaseModel):\n",
    "    next: Literal[*options]\n",
    "\n",
    "\n",
    "prompt = ChatPromptTemplate.from_messages(\n",
    "    [\n",
    "        (\"system\", system_prompt),\n",
    "        MessagesPlaceholder(variable_name=\"messages\"),\n",
    "        (\n",
    "            \"system\",\n",
    "            \"Given the conversation above, who should act next?\"\n",
    "            \" Or should we FINISH? Select one of: {options}\",\n",
    "        ),\n",
    "    ]\n",
    ").partial(options=str(options), members=\", \".join(members))\n",
    "\n",
    "\n",
    "def supervisor_agent(state):\n",
    "    supervisor_chain = prompt | llm.with_structured_output(routeResponse)\n",
    "    return supervisor_chain.invoke(state)"
   ]
  },
  {
   "cell_type": "code",
   "execution_count": 5,
   "metadata": {},
   "outputs": [],
   "source": [
    "#Create Worker Agents\n",
    "import functools\n",
    "from langgraph.prebuilt import create_react_agent\n",
    "from Agent_prompts import get_schema_query_prompt, get_query_executer_prompt\n",
    "\n",
    "#schema info and query builder agent\n",
    "from langgraph.checkpoint.memory import MemorySaver\n",
    "from langchain.tools.render import render_text_description\n",
    "from langchain_community.tools.tavily_search import TavilySearchResults\n",
    "from Agent_tools import get_dataset_info_tool, get_dataset_indexing_structure\n",
    "\n",
    "memory=MemorySaver()\n",
    "tavily_tool = TavilySearchResults(max_results=5)\n",
    "schema_query_tools = [get_dataset_info_tool, get_dataset_indexing_structure, tavily_tool]\n",
    "\n",
    "# Create Tools description\n",
    "tools_list = render_text_description(list(schema_query_tools))\n",
    "tool_names = \", \".join((t.name for t in schema_query_tools))\n",
    "SQ_agent_prompt = get_schema_query_prompt(tools_list, tool_names)\n",
    "\n",
    "schema_query_agent = create_react_agent(llm, tools=schema_query_tools, state_modifier=SQ_agent_prompt, checkpointer=memory)\n",
    "schema_query_node = functools.partial(agent_node, agent=schema_query_agent, name=\"Schema_Query Agent\")\n",
    "\n",
    "\n",
    "# Query Executer Agent\n",
    "import pandas as pd\n",
    "from langchain_experimental.tools import PythonAstREPLTool\n",
    "\n",
    "df=pd.read_excel('Book2.xlsx', header=[0,1], index_col=[0,1, 2]).fillna(0)\n",
    "python_repl_tool = PythonAstREPLTool(locals={'df':df})\n",
    "query_executer_tools = [python_repl_tool]\n",
    "\n",
    "#Create Tools description\n",
    "repl_tools_list = render_text_description(list(query_executer_tools))\n",
    "repl_tool_names = \", \".join((t.name for t in query_executer_tools))\n",
    "QE_agent_prompt = get_query_executer_prompt(repl_tools_list, repl_tool_names)\n",
    "\n",
    "query_executer_agent = create_react_agent(llm, tools=query_executer_tools, state_modifier=QE_agent_prompt)\n",
    "query_executer_node = functools.partial(agent_node, agent=query_executer_agent, name=\"Query_Executer Agent\")"
   ]
  },
  {
   "cell_type": "code",
   "execution_count": 6,
   "metadata": {},
   "outputs": [],
   "source": [
    "#Create langgraph flow\n",
    "import operator\n",
    "from typing import Sequence, Annotated\n",
    "from typing_extensions import TypedDict\n",
    "from langchain_core.messages import BaseMessage\n",
    "from langgraph.graph import END, StateGraph, START\n",
    "\n",
    "# The agent state is the input to each node in the graph\n",
    "class AgentState(TypedDict):\n",
    "    # The annotation tells the graph that new messages will always\n",
    "    # be added to the current states\n",
    "    messages: Annotated[Sequence[BaseMessage], operator.add]\n",
    "    # The 'next' field indicates where to route to next\n",
    "    next: str\n",
    "\n",
    "workflow = StateGraph(AgentState)\n",
    "workflow.add_node(\"Schema_Query Agent\", schema_query_node)\n",
    "workflow.add_node(\"Query_Executer Agent\", query_executer_node)\n",
    "workflow.add_node(\"supervisor\", supervisor_agent)\n",
    "\n",
    "#Connect all Edges of the graph\n",
    "for member in members:\n",
    "    # We want our workers to ALWAYS \"report back\" to the supervisor when done\n",
    "    workflow.add_edge(member, \"supervisor\")\n",
    "# The supervisor populates the \"next\" field in the graph state\n",
    "# which routes to a node or finishes\n",
    "conditional_map = {k: k for k in members}\n",
    "conditional_map[\"FINISH\"] = END\n",
    "workflow.add_conditional_edges(\"supervisor\", lambda x: x[\"next\"], conditional_map)\n",
    "# Finally, add entrypoint\n",
    "workflow.add_edge(START, \"supervisor\")\n",
    "\n",
    "graph = workflow.compile()"
   ]
  },
  {
   "cell_type": "code",
   "execution_count": 7,
   "metadata": {},
   "outputs": [
    {
     "data": {
      "image/jpeg": "[encoded data removed]",
      "text/plain": [
       "<IPython.core.display.Image object>"
      ]
     },
     "metadata": {},
     "output_type": "display_data"
    }
   ],
   "source": [
    "from IPython.display import Image, display\n",
    "display(Image(graph.get_graph(xray=True).draw_mermaid_png()))"
   ]
  },
  {
   "cell_type": "code",
   "execution_count": 9,
   "metadata": {},
   "outputs": [
    {
     "name": "stdout",
     "output_type": "stream",
     "text": [
      "{'supervisor': {'next': 'Schema_Query Agent'}}\n",
      "----\n",
      "{'Schema_Query Agent': {'messages': [HumanMessage(content=\"Thought: The DataFrame has a multi-index structure with rows categorized by 'Gender', 'UK County', and 'Age'. I need to access the percentage of the male population specifically for the 'North West' UK County. The relevant column for this information is under the 'Gender' category for 'Male'.\\n\\nAction: Construct the pandas query based on the multi-index structure.\\n\\nFinal Answer: `df.loc[('Gender', 'Male', 'Percentage'), ('UK County', 'North West')]`\", additional_kwargs={}, response_metadata={}, name='Schema_Query_Agent')]}}\n",
      "----\n",
      "{'supervisor': {'next': 'Query_Executer Agent'}}\n",
      "----\n",
      "{'Query_Executer Agent': {'messages': [HumanMessage(content=\"Query: What is the percentage of male population in North West of UK County?\\nThought: The request is to extract the percentage of the male population specifically for the 'North West' UK County from a multi-index DataFrame. The query is safe as it only involves read operations.\\nAction: Execute the pandas query to get the percentage.\\nAction Input: df.loc[('Gender', 'Male', 'Percentage'), ('UK County', 'North West')]\\nObservation: 47.0\\nThought: The result indicates that the male population percentage in the North West of the UK County is 47.0%.\\nFinal Answer: 47.0\", additional_kwargs={}, response_metadata={}, name='Query_Executer_Agent')]}}\n",
      "----\n",
      "{'supervisor': {'next': 'FINISH'}}\n",
      "----\n"
     ]
    }
   ],
   "source": [
    "for s in graph.stream(\n",
    "    {\n",
    "        \"messages\": [\n",
    "            HumanMessage(content=\"What is the percentage of male population in North West of UK County?\")\n",
    "        ]\n",
    "    }\n",
    "):\n",
    "    if \"__end__\" not in s:\n",
    "        print(s)\n",
    "        print(\"----\")"
   ]
  }
 ],
 "metadata": {
  "kernelspec": {
   "display_name": ".venv",
   "language": "python",
   "name": "python3"
  },
  "language_info": {
   "codemirror_mode": {
    "name": "ipython",
    "version": 3
   },
   "file_extension": ".py",
   "mimetype": "text/x-python",
   "name": "python",
   "nbconvert_exporter": "python",
   "pygments_lexer": "ipython3",
   "version": "3.12.0"
  }
 },
 "nbformat": 4,
 "nbformat_minor": 2
}
