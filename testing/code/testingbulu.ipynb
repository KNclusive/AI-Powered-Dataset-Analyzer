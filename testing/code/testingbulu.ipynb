{
 "cells": [
  {
   "cell_type": "code",
   "execution_count": 4,
   "metadata": {},
   "outputs": [
    {
     "name": "stdout",
     "output_type": "stream",
     "text": [
      "['Category', 'Subcategory', 'Measure']\n"
     ]
    }
   ],
   "source": [
    "import pandas as pd\n",
    "from langchain.output_parsers import PandasDataFrameOutputParser\n",
    "\n",
    "df = pd.read_excel('Book2.xlsx', header=[0,1], index_col=[0,1, 2]).fillna(0)\n",
    "df.index.names = ['Category', 'Subcategory', 'Measure']\n",
    "df.columns.names = ['MainCategory', 'Subcategory']\n",
    "\n",
    "# print(df.loc[(slice(None), 'Male'), ('UK County', 'North West')].sum()) # Give me pandas query to find number of Males in North West of UK County.\n",
    "\n",
    "# print(df['UK County', 'North West'].loc['Gender', 'Male'].loc['Value']) #Wanted\n",
    "\n",
    "# print(df.loc[(slice(None), 'Male'), (slice(None), 'North West')].sum()) #Using pandas, find the number of Males in the North West region of UK County.\n",
    "\n",
    "# from io import StringIO\n",
    "# buffer = StringIO()\n",
    "# df.info(buf=buffer)  # Extract structure information\n",
    "# df_info = buffer.getvalue()\n",
    "# print(df_info)\n",
    "\n",
    "# print(df.describe())\n",
    "\n",
    "# north_west_data = df.loc[:, ('UK County', 'North West')]\n",
    "# # print(north_west_data)\n",
    "# total_males = north_west_data['Gender', 'Male'].sum()\n",
    "# # print(total_males)\n",
    "# total_population = north_west_data['Gender', 'Male'].sum() + north_west_data['Gender', 'Female'].sum()\n",
    "# # print(total_population)\n",
    "# percentage_males_north_west = (54 / (54+60)) * 100\n",
    "# print(percentage_males_north_west)\n",
    "\n",
    "print(df.index.names)\n",
    "\n",
    "# print(df.loc[('UK County', 'North West', 'Percentage'), ('Gender', 'Male')])"
   ]
  },
  {
   "cell_type": "code",
   "execution_count": 5,
   "metadata": {},
   "outputs": [],
   "source": [
    "def get_df_structure(df):\n",
    "    return (f\"Index levels: {df.index.names}\\n\"\n",
    "            f\"Index values: {[df.index.get_level_values(i).unique().tolist() for i in range(df.index.nlevels)]}\\n\"\n",
    "            f\"Column levels: {df.columns.names}\\n\"\n",
    "            f\"Column values: {[df.columns.get_level_values(i).unique().tolist() for i in range(df.columns.nlevels)]}\")"
   ]
  },
  {
   "cell_type": "code",
   "execution_count": 6,
   "metadata": {},
   "outputs": [
    {
     "data": {
      "text/plain": [
       "\"Index levels: ['Category', 'Subcategory', 'Measure']\\nIndex values: [['Gender', 'UK County', 'Age'], ['Male', 'Female', 'North East', 'North West', 'Yorkshire & The Humber', 'East Midlands', 'West Midlands', 'East of England', 'London', 'South East', 'South West', 'Wales', 'Scotland', 'Northern Ireland', '18-24', '18-25', '25-34', '25-35', '35-44', '35-45', '45-54', '45-55', '55-64', '55-65'], ['Value', 'Percentage']]\\nColumn levels: ['MainCategory', 'Subcategory']\\nColumn values: [['Gender', 'UK County', 'Age'], ['Male', 'Female', 'North East', 'North West', 'Yorkshire & The Humber', 'East Midlands', 'West Midlands', 'East of England', 'London', 'South East', 'South West', 'Wales', 'Scotland', 'Northern Ireland', '18-24', '25-34', '35-44', '45-54', '55-64']]\""
      ]
     },
     "execution_count": 6,
     "metadata": {},
     "output_type": "execute_result"
    }
   ],
   "source": [
    "get_df_structure(df)"
   ]
  },
  {
   "cell_type": "code",
   "execution_count": 7,
   "metadata": {},
   "outputs": [
    {
     "data": {
      "text/plain": [
       "47.0"
      ]
     },
     "execution_count": 7,
     "metadata": {},
     "output_type": "execute_result"
    }
   ],
   "source": [
    "df.loc[('Gender', 'Male', 'Percentage'), ('UK County', 'North West')]"
   ]
  }
 ],
 "metadata": {
  "kernelspec": {
   "display_name": ".venv",
   "language": "python",
   "name": "python3"
  },
  "language_info": {
   "codemirror_mode": {
    "name": "ipython",
    "version": 3
   },
   "file_extension": ".py",
   "mimetype": "text/x-python",
   "name": "python",
   "nbconvert_exporter": "python",
   "pygments_lexer": "ipython3",
   "version": "3.12.0"
  }
 },
 "nbformat": 4,
 "nbformat_minor": 2
}
