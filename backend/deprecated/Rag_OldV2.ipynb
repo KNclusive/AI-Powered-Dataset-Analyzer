{
 "cells": [
  {
   "cell_type": "code",
   "execution_count": 1,
   "metadata": {},
   "outputs": [],
   "source": [
    "from dotenv import load_dotenv\n",
    "load_dotenv()\n",
    "\n",
    "from langchain_openai import ChatOpenAI\n",
    "llm = ChatOpenAI(model=\"gpt-4o-mini\")"
   ]
  },
  {
   "cell_type": "code",
   "execution_count": 2,
   "metadata": {},
   "outputs": [],
   "source": [
    "# Setup Model for response validation\n",
    "import regex as re\n",
    "import pandas as pd\n",
    "from pydantic import BaseModel, Field\n",
    "from typing import Optional, List, Dict, Literal\n",
    "\n",
    "class FinalResponse(BaseModel):\n",
    "    original_query: str = Field(description=\"The user's original natural language query.\")\n",
    "    output: str = Field(description=\"The result of the executed query.\")\n",
    "    charts: Optional[List[Dict]] = Field(default=None, description=\"List of charts generated, if any.\")\n",
    "\n",
    "class SupervisorResponse(BaseModel):\n",
    "    next_action: Literal[\"FINISH\", \"EXECUTE_QUERY\", \"Schema_Query_Agent\"]\n",
    "    final_response: Optional[FinalResponse] = None\n",
    "\n",
    "class SchemaQueryResponse(BaseModel):\n",
    "    final_query: str = Field(description=\"The constructed single-line Pandas query.\")"
   ]
  },
  {
   "cell_type": "code",
   "execution_count": 3,
   "metadata": {},
   "outputs": [],
   "source": [
    "from langchain_core.output_parsers import JsonOutputParser\n",
    "schema_query_parser = JsonOutputParser(pydantic_object=SchemaQueryResponse)\n",
    "\n",
    "# Helper functions for Supervisor Agent\n",
    "def extract_query_from_state(state):\n",
    "    for message in reversed(state['messages']):\n",
    "        if message.name == \"Schema_Query_Agent\":\n",
    "            pattern = r\"The constructed Pandas query is: (.*)\"\n",
    "            match = re.search(pattern, message.content)\n",
    "            return match.group(1)\n",
    "        else:\n",
    "            return \"Query Not generated\"\n",
    "\n",
    "from Agent_tools import data_df as df\n",
    "from langchain_experimental.tools import PythonAstREPLTool\n",
    "python_repl_tool = PythonAstREPLTool(locals={'df':df})\n",
    "def execute_query(query):\n",
    "    if query is None:\n",
    "        return f\"Query is empty\"\n",
    "    try:\n",
    "        result = python_repl_tool.run(query)\n",
    "    except Exception as e:\n",
    "        return f\"Error executing query: {e}\"\n",
    "    \n",
    "    if isinstance(result, (pd.DataFrame, pd.Series)):\n",
    "        return result.to_string()\n",
    "    else:\n",
    "        return str(result)\n",
    "\n",
    "from langchain.output_parsers import PydanticOutputParser\n",
    "supervisor_parser = PydanticOutputParser(pydantic_object=SupervisorResponse)\n",
    "def validate_response(response):\n",
    "    try:\n",
    "        final_response = SupervisorResponse.model_validate(response)\n",
    "        return_answer = final_response.final_response\n",
    "        return return_answer.json() #converting to string\n",
    "    except Exception as e:  \n",
    "        return f\"Error parsing final response: {e}\""
   ]
  },
  {
   "cell_type": "code",
   "execution_count": 4,
   "metadata": {},
   "outputs": [],
   "source": [
    "#Create Supervisor Agent\n",
    "from langchain_core.messages import HumanMessage\n",
    "from langchain_core.prompts import ChatPromptTemplate, MessagesPlaceholder\n",
    "from Agent_prompts import get_supervisor_prompt\n",
    "\n",
    "members = [\"Schema_Query_Agent\"]\n",
    "supervisor_prompt = get_supervisor_prompt()\n",
    "options = [\"FINISH\", \"EXECUTE_QUERY\", \"Schema_Query_Agent\"]\n",
    "\n",
    "final_supervisor_prompt = ChatPromptTemplate.from_messages(\n",
    "    [\n",
    "        (\"system\", supervisor_prompt),\n",
    "        MessagesPlaceholder(variable_name=\"messages\"),\n",
    "        (\n",
    "            \"system\",\n",
    "            \"Given the conversation above, what should be the next action? \"\n",
    "            \"Select one of: {options}\",\n",
    "        ),\n",
    "    ]\n",
    ").partial(options=str(options), members=\", \".join(members), format_instructions=supervisor_parser.get_format_instructions())\n",
    "\n",
    "def supervisor_agent(state):\n",
    "    supervisor_chain = final_supervisor_prompt | llm.with_structured_output(SupervisorResponse)\n",
    "    response = supervisor_chain.invoke(state)\n",
    "    next_action = response.next_action\n",
    "\n",
    "    if next_action=='EXECUTE_QUERY':\n",
    "        query=extract_query_from_state(state)\n",
    "        result=execute_query(query)\n",
    "        answer_eq = f\"The answer after executing query: {query} is {result}\"\n",
    "        state['messages'].append(HumanMessage(content=answer_eq, name=\"EXECUTE_QUERY\"))\n",
    "        state['next'] = \"supervisor\"\n",
    "    elif next_action == \"Schema_Query_Agent\":\n",
    "        state['next'] = \"Schema_Query_Agent\"\n",
    "    elif next_action == \"FINISH\":\n",
    "        final_response = validate_response(response)\n",
    "        if final_response:\n",
    "            state['messages'].append(HumanMessage(content=final_response, name=\"Supervisor\"))\n",
    "        else:\n",
    "            state['messages'].append(HumanMessage(content=\"No final response provided.\", name=\"Supervisor\"))\n",
    "        state['next'] = \"FINISH\"\n",
    "    else:\n",
    "        state['messages'].append(HumanMessage(content=\"Unexpected error\", name=\"Supervisor\"))\n",
    "        state['next'] = \"FINISH\"\n",
    "    return state"
   ]
  },
  {
   "cell_type": "code",
   "execution_count": 5,
   "metadata": {},
   "outputs": [],
   "source": [
    "#Helper utility to create agent nodes in graph\n",
    "def agent_node(state, agent, name):\n",
    "    result = agent.invoke(state)\n",
    "    agent_message = result[\"messages\"][-1].content\n",
    "    if schema_query_parser:\n",
    "        try:\n",
    "            output = schema_query_parser.parse(agent_message)\n",
    "        except Exception as e:\n",
    "            output = f\"Error parsing agent output: {e}\"\n",
    "    else:\n",
    "        output = agent_message\n",
    "\n",
    "    answer = f\"The constructed Pandas query is: {output.get(\"final_query\")}\"\n",
    "\n",
    "    return {\n",
    "        \"messages\": [HumanMessage(content=answer, name=name)]\n",
    "    }"
   ]
  },
  {
   "cell_type": "code",
   "execution_count": 6,
   "metadata": {},
   "outputs": [],
   "source": [
    "#Create Worker Agents\n",
    "import functools\n",
    "from langgraph.prebuilt import create_react_agent\n",
    "from Agent_prompts import get_schema_query_prompt\n",
    "\n",
    "#schema info and query builder agent\n",
    "from langgraph.checkpoint.memory import MemorySaver\n",
    "from langchain.tools.render import render_text_description\n",
    "from Agent_tools import get_dataset_info_tool, get_dataset_indexing_structure\n",
    "\n",
    "memory=MemorySaver()\n",
    "schema_query_tools = [get_dataset_info_tool, get_dataset_indexing_structure]\n",
    "\n",
    "# Create Tools description\n",
    "tools_list = render_text_description(list(schema_query_tools))\n",
    "tool_names = \", \".join((t.name for t in schema_query_tools))\n",
    "format_instructions = schema_query_parser.get_format_instructions()\n",
    "SQ_agent_prompt = get_schema_query_prompt(tools_list, tool_names, format_instructions)\n",
    "\n",
    "schema_query_agent = create_react_agent(llm, tools=schema_query_tools, state_modifier=SQ_agent_prompt, checkpointer=memory)\n",
    "schema_query_node = functools.partial(agent_node, agent=schema_query_agent, name=\"Schema_Query_Agent\")"
   ]
  },
  {
   "cell_type": "code",
   "execution_count": 7,
   "metadata": {},
   "outputs": [],
   "source": [
    "#Create langgraph flow\n",
    "import operator\n",
    "from typing import Sequence, Annotated\n",
    "from typing_extensions import TypedDict\n",
    "from langchain_core.messages import BaseMessage\n",
    "from langgraph.graph import END, StateGraph, START\n",
    "\n",
    "class AgentState(TypedDict):\n",
    "    messages: Annotated[Sequence[BaseMessage], operator.add]\n",
    "    next: str\n",
    "\n",
    "workflow = StateGraph(AgentState)\n",
    "workflow.add_node(\"Schema_Query_Agent\", schema_query_node)\n",
    "workflow.add_node(\"supervisor\", supervisor_agent)\n",
    "\n",
    "for member in members:\n",
    "    workflow.add_edge(member, \"supervisor\")\n",
    "\n",
    "conditional_map = {\n",
    "    \"Schema_Query_Agent\": \"Schema_Query_Agent\",\n",
    "    \"EXECUTE_QUERY\": \"supervisor\",  # Loop back to supervisor after execution\n",
    "    \"supervisor\": \"supervisor\",\n",
    "    \"FINISH\": END\n",
    "}\n",
    "\n",
    "workflow.add_conditional_edges(\"supervisor\", lambda x: x[\"next\"], conditional_map)\n",
    "workflow.add_edge(START, \"supervisor\")\n",
    "graph = workflow.compile()"
   ]
  },
  {
   "cell_type": "code",
   "execution_count": 8,
   "metadata": {},
   "outputs": [],
   "source": [
    "# from IPython.display import Image, display\n",
    "# display(Image(graph.get_graph(xray=True).draw_mermaid_png()))"
   ]
  },
  {
   "cell_type": "code",
   "execution_count": 9,
   "metadata": {},
   "outputs": [
    {
     "name": "stdout",
     "output_type": "stream",
     "text": [
      "{'supervisor': {'messages': [HumanMessage(content='What is the percentage of male population in North West of UK County?', additional_kwargs={}, response_metadata={})], 'next': 'Schema_Query_Agent'}}\n",
      "----\n",
      "{'Schema_Query_Agent': {'messages': [HumanMessage(content=\"The constructed Pandas query is: df.loc[('Gender', 'Male', 'Percentage'), ('UK County', 'North West')]\", additional_kwargs={}, response_metadata={}, name='Schema_Query_Agent')]}}\n",
      "----\n",
      "{'supervisor': {'messages': [HumanMessage(content='What is the percentage of male population in North West of UK County?', additional_kwargs={}, response_metadata={}, id='572cf82c-732e-43f2-bab1-c93ed2b2b7a1'), HumanMessage(content='What is the percentage of male population in North West of UK County?', additional_kwargs={}, response_metadata={}, id='572cf82c-732e-43f2-bab1-c93ed2b2b7a1'), HumanMessage(content=\"The constructed Pandas query is: df.loc[('Gender', 'Male', 'Percentage'), ('UK County', 'North West')]\", additional_kwargs={}, response_metadata={}, name='Schema_Query_Agent'), HumanMessage(content=\"The answer after executing query: df.loc[('Gender', 'Male', 'Percentage'), ('UK County', 'North West')] is 47.0\", additional_kwargs={}, response_metadata={}, name='EXECUTE_QUERY')], 'next': 'supervisor'}}\n",
      "----\n",
      "{'supervisor': {'messages': [HumanMessage(content='What is the percentage of male population in North West of UK County?', additional_kwargs={}, response_metadata={}, id='572cf82c-732e-43f2-bab1-c93ed2b2b7a1'), HumanMessage(content='What is the percentage of male population in North West of UK County?', additional_kwargs={}, response_metadata={}, id='572cf82c-732e-43f2-bab1-c93ed2b2b7a1'), HumanMessage(content=\"The constructed Pandas query is: df.loc[('Gender', 'Male', 'Percentage'), ('UK County', 'North West')]\", additional_kwargs={}, response_metadata={}, name='Schema_Query_Agent'), HumanMessage(content=\"The answer after executing query: df.loc[('Gender', 'Male', 'Percentage'), ('UK County', 'North West')] is 47.0\", additional_kwargs={}, response_metadata={}, name='EXECUTE_QUERY'), HumanMessage(content='What is the percentage of male population in North West of UK County?', additional_kwargs={}, response_metadata={}, id='572cf82c-732e-43f2-bab1-c93ed2b2b7a1'), HumanMessage(content='What is the percentage of male population in North West of UK County?', additional_kwargs={}, response_metadata={}, id='572cf82c-732e-43f2-bab1-c93ed2b2b7a1'), HumanMessage(content=\"The constructed Pandas query is: df.loc[('Gender', 'Male', 'Percentage'), ('UK County', 'North West')]\", additional_kwargs={}, response_metadata={}, name='Schema_Query_Agent'), HumanMessage(content=\"The answer after executing query: df.loc[('Gender', 'Male', 'Percentage'), ('UK County', 'North West')] is 47.0\", additional_kwargs={}, response_metadata={}, name='EXECUTE_QUERY'), HumanMessage(content='{\"original_query\":\"What is the percentage of male population in North West of UK County?\",\"output\":\"47.0\",\"charts\":null}', additional_kwargs={}, response_metadata={}, name='Supervisor')], 'next': 'FINISH'}}\n",
      "----\n"
     ]
    }
   ],
   "source": [
    "# for s in graph.stream(\n",
    "#     {\n",
    "#         \"messages\": [\n",
    "#             HumanMessage(content=\"What is the percentage of male population in North West of UK County?\")\n",
    "#         ]\n",
    "#     }\n",
    "# ):\n",
    "#     if \"__end__\" not in s:\n",
    "#         print(s)\n",
    "#         print(\"----\")"
   ]
  },
  {
   "cell_type": "code",
   "execution_count": 14,
   "metadata": {},
   "outputs": [],
   "source": [
    "final_state = graph.invoke(\n",
    "    {\n",
    "        \"messages\": [\n",
    "            HumanMessage(content=\"What is the total count of males across all regions in the UK County?\")\n",
    "        ]\n",
    "    }\n",
    ")"
   ]
  },
  {
   "cell_type": "code",
   "execution_count": 15,
   "metadata": {},
   "outputs": [
    {
     "name": "stdout",
     "output_type": "stream",
     "text": [
      "{\"original_query\":\"What is the total count of males across all regions in the UK County?\",\"output\":\"1431.0\",\"charts\":null}\n"
     ]
    }
   ],
   "source": [
    "print(final_state[\"messages\"][-1].content)"
   ]
  }
 ],
 "metadata": {
  "kernelspec": {
   "display_name": ".venv",
   "language": "python",
   "name": "python3"
  },
  "language_info": {
   "codemirror_mode": {
    "name": "ipython",
    "version": 3
   },
   "file_extension": ".py",
   "mimetype": "text/x-python",
   "name": "python",
   "nbconvert_exporter": "python",
   "pygments_lexer": "ipython3",
   "version": "3.12.0"
  }
 },
 "nbformat": 4,
 "nbformat_minor": 2
}
